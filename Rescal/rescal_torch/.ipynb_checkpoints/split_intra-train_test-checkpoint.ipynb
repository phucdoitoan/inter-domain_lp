{
 "cells": [
  {
   "cell_type": "code",
   "execution_count": 1,
   "metadata": {},
   "outputs": [],
   "source": [
    "import pandas as pd\n",
    "import os\n",
    "import shutil\n",
    "from torchkge.utils.operations import get_dictionaries\n",
    "\n",
    "import utils\n",
    "\n",
    "import pickle"
   ]
  },
  {
   "cell_type": "code",
   "execution_count": 2,
   "metadata": {},
   "outputs": [],
   "source": [
    "def split_df(df, train_ratio=0.95):\n",
    "    train_len = int(len(df) * train_ratio)\n",
    "    \n",
    "    df = df.sample(frac=1).reset_index(drop=True)\n",
    "    \n",
    "    train_df = df.loc[:train_len]\n",
    "    test_df = df.loc[train_len:]\n",
    "    \n",
    "    return train_df, test_df    "
   ]
  },
  {
   "cell_type": "code",
   "execution_count": 3,
   "metadata": {},
   "outputs": [],
   "source": [
    "def split(path):\n",
    "    print('path to dataset: ', path)\n",
    "    \n",
    "    intra_df1 = pd.read_csv(path + 'train1.csv', delimiter='\\t').rename(columns={'head':'from', 'rel':'rel', 'tail':'to'})\n",
    "    ent2ix_1 = get_dictionaries(intra_df1, ent=True)\n",
    "    rel2ix_1 = get_dictionaries(intra_df1, ent=False)\n",
    "    n1 = len(ent2ix_1)\n",
    "    ent_set_1 = set(ent2ix_1.keys())\n",
    "    \n",
    "    \n",
    "    \n",
    "    intra_df2 = pd.read_csv(path + 'train2.csv', delimiter='\\t').rename(columns={'head':'from', 'rel':'rel', 'tail':'to'})\n",
    "    ent2ix_2 = get_dictionaries(intra_df2, ent=True)\n",
    "    rel2ix_2 = get_dictionaries(intra_df2, ent=False)\n",
    "    n2 = len(ent2ix_2)\n",
    "    ent_set_2 = set(ent2ix_2.keys())\n",
    "    \n",
    "    common_df = pd.read_csv(path + 'train_common.csv', delimiter='\\t').rename(columns={'head':'from', 'rel':'rel', 'tail':'to'})\n",
    "    ent2ix_common = get_dictionaries(common_df, ent=True)\n",
    "    rel2ix_common = get_dictionaries(common_df, ent=False)\n",
    "    n_common = len(ent2ix_common)\n",
    "    ent_set_common = set(ent2ix_common.keys())\n",
    "    \n",
    "    \n",
    "    cross_1_common = pd.read_csv(path + 'cross_1_common.csv', delimiter='\\t').rename(columns={'head':'from', 'rel':'rel', 'tail':'to'})\n",
    "    cross_2_common = pd.read_csv(path + 'cross_2_common.csv', delimiter='\\t').rename(columns={'head':'from', 'rel':'rel', 'tail':'to'})\n",
    "    \n",
    "    # merge ent2ix from all df\n",
    "    ent2ix_1_common = {k: v + n1 for k, v in ent2ix_common.items()}\n",
    "    ent2ix_1.update(ent2ix_1_common)\n",
    "    ent2ix_2 = {k: v + n1 + n_common for k, v in ent2ix_2.items()}\n",
    "    ent2ix_1.update(ent2ix_2)\n",
    "    ent2ix = ent2ix_1\n",
    "\n",
    "    print('total entities: ', n1 + n_common + n2, len(ent2ix))\n",
    "\n",
    "    # merge rel2ix from all df\n",
    "    dif_rel = set(rel2ix_common.keys()).difference(set(rel2ix_1.keys()))\n",
    "    for rel in dif_rel:\n",
    "        rel_id = len(rel2ix_1)\n",
    "        rel2ix_1[rel] = rel_id\n",
    "    dif_rel = set(rel2ix_2.keys()).difference(set(rel2ix_1.keys()))\n",
    "    for rel in dif_rel:\n",
    "        rel_id = len(rel2ix_1)\n",
    "        rel2ix_1[rel] = rel_id\n",
    "\n",
    "    rel2ix = rel2ix_1\n",
    "    \n",
    "    intra_df = pd.concat([intra_df1, cross_1_common, common_df, cross_2_common, intra_df2], axis=0)\n",
    "    \n",
    "    kg = utils.Extended_KnowledgeGraph(df=intra_df, ent2ix=ent2ix, rel2ix=rel2ix)\n",
    "    \n",
    "    kg, intra_kg_test = kg.split_kg(share=0.95)    \n",
    "    \n",
    "    # inter-domain\n",
    "    inter_df = pd.read_csv(path + 'cross_12.csv', delimiter='\\t').rename(columns={'head':'from', 'rel':'rel', 'tail':'to'})\n",
    "    \n",
    "    inter_kg = utils.Extended_KnowledgeGraph(df=inter_df, ent2ix=kg.ent2ix, rel2ix=kg.rel2ix)\n",
    "    \n",
    "    print('\\t\\t len INTER df test: ', len(inter_df))\n",
    "    \n",
    "    kg_dict = {'intra_train': kg,\n",
    "               'intra_test': intra_kg_test,\n",
    "               'inter_test': inter_kg,\n",
    "               'n1': n1,\n",
    "               'n2': n2,\n",
    "               'n_common': n_common,\n",
    "              }\n",
    "    \n",
    "    # saving\n",
    "    save_path = path + 'fix_intra-test/'\n",
    "    if os.path.exists(save_path) and os.path.exists(save_path):\n",
    "        shutil.rmtree(save_path)\n",
    "    if not os.path.exists(save_path):\n",
    "        os.makedirs(save_path)    \n",
    "        \n",
    "    pickle.dump(kg_dict, open(save_path + 'kg_dict.pkl', 'bw'))\n",
    "    \n",
    "    print('Done!!!')"
   ]
  },
  {
   "cell_type": "markdown",
   "metadata": {},
   "source": [
    "# split FB15k-237"
   ]
  },
  {
   "cell_type": "code",
   "execution_count": 5,
   "metadata": {},
   "outputs": [
    {
     "name": "stdout",
     "output_type": "stream",
     "text": [
      "path to dataset:  ../data/FB15k-237/semi/divided/\n",
      "total entities:  5293 5293\n",
      "\t\t len INTER df test:  22879\n",
      "Done!!!\n"
     ]
    }
   ],
   "source": [
    "FB15k_15_path = '../data/FB15k-237/semi/divided/'\n",
    "split(FB15k_15_path)"
   ]
  },
  {
   "cell_type": "code",
   "execution_count": 6,
   "metadata": {},
   "outputs": [
    {
     "name": "stdout",
     "output_type": "stream",
     "text": [
      "path to dataset:  ../data/FB15k-237/semi_3/divided/\n",
      "total entities:  5435 5435\n",
      "\t\t len INTER df test:  22006\n",
      "Done!!!\n"
     ]
    }
   ],
   "source": [
    "FB15k_3_path = '../data/FB15k-237/semi_3/divided/'\n",
    "split(FB15k_3_path)"
   ]
  },
  {
   "cell_type": "code",
   "execution_count": 7,
   "metadata": {},
   "outputs": [
    {
     "name": "stdout",
     "output_type": "stream",
     "text": [
      "path to dataset:  ../data/FB15k-237/semi_5/divided/\n",
      "total entities:  5399 5399\n",
      "\t\t len INTER df test:  22505\n",
      "Done!!!\n"
     ]
    }
   ],
   "source": [
    "FB15k_5_path = '../data/FB15k-237/semi_5/divided/'\n",
    "split(FB15k_5_path)"
   ]
  },
  {
   "cell_type": "markdown",
   "metadata": {},
   "source": [
    "# Split WN18RR"
   ]
  },
  {
   "cell_type": "code",
   "execution_count": 8,
   "metadata": {},
   "outputs": [
    {
     "name": "stdout",
     "output_type": "stream",
     "text": [
      "path to dataset:  ../data/WN18RR/semi/divided/\n",
      "total entities:  11065 11065\n",
      "\t\t len INTER df test:  3884\n",
      "Done!!!\n"
     ]
    }
   ],
   "source": [
    "WN18RR_15_path = '../data/WN18RR/semi/divided/'\n",
    "split(WN18RR_15_path)"
   ]
  },
  {
   "cell_type": "code",
   "execution_count": 9,
   "metadata": {},
   "outputs": [
    {
     "name": "stdout",
     "output_type": "stream",
     "text": [
      "path to dataset:  ../data/WN18RR/semi_3/divided/\n",
      "total entities:  5608 5608\n",
      "\t\t len INTER df test:  1218\n",
      "Done!!!\n"
     ]
    }
   ],
   "source": [
    "WN18RR_3_path = '../data/WN18RR/semi_3/divided/'\n",
    "split(WN18RR_3_path)"
   ]
  },
  {
   "cell_type": "code",
   "execution_count": 10,
   "metadata": {},
   "outputs": [
    {
     "name": "stdout",
     "output_type": "stream",
     "text": [
      "path to dataset:  ../data/WN18RR/semi_5/divided/\n",
      "total entities:  6012 6012\n",
      "\t\t len INTER df test:  1444\n",
      "Done!!!\n"
     ]
    }
   ],
   "source": [
    "WN18RR_5_path = '../data/WN18RR/semi_5/divided/'\n",
    "split(WN18RR_5_path)"
   ]
  },
  {
   "cell_type": "markdown",
   "metadata": {},
   "source": [
    "# Split DBbook2014"
   ]
  },
  {
   "cell_type": "code",
   "execution_count": 11,
   "metadata": {},
   "outputs": [
    {
     "name": "stdout",
     "output_type": "stream",
     "text": [
      "path to dataset:  ../data/KG_datasets/dbbook2014/semi/divided/\n",
      "total entities:  5842 5842\n",
      "\t\t len INTER df test:  26881\n",
      "Done!!!\n"
     ]
    }
   ],
   "source": [
    "DBbook_15 = '../data/KG_datasets/dbbook2014/semi/divided/'\n",
    "split(DBbook_15)"
   ]
  },
  {
   "cell_type": "code",
   "execution_count": 12,
   "metadata": {},
   "outputs": [
    {
     "name": "stdout",
     "output_type": "stream",
     "text": [
      "path to dataset:  ../data/KG_datasets/dbbook2014/semi_3/divided/\n",
      "total entities:  5914 5914\n",
      "\t\t len INTER df test:  33410\n",
      "Done!!!\n"
     ]
    }
   ],
   "source": [
    "DBbook_3 = '../data/KG_datasets/dbbook2014/semi_3/divided/'\n",
    "split(DBbook_3)"
   ]
  },
  {
   "cell_type": "code",
   "execution_count": 13,
   "metadata": {},
   "outputs": [
    {
     "name": "stdout",
     "output_type": "stream",
     "text": [
      "path to dataset:  ../data/KG_datasets/dbbook2014/semi_5/divided/\n",
      "total entities:  5965 5965\n",
      "\t\t len INTER df test:  29201\n",
      "Done!!!\n"
     ]
    }
   ],
   "source": [
    "DBbook_5 = '../data/KG_datasets/dbbook2014/semi_5/divided/'\n",
    "split(DBbook_5)"
   ]
  },
  {
   "cell_type": "markdown",
   "metadata": {},
   "source": [
    "# Split ML1M"
   ]
  },
  {
   "cell_type": "code",
   "execution_count": 14,
   "metadata": {},
   "outputs": [
    {
     "name": "stdout",
     "output_type": "stream",
     "text": [
      "path to dataset:  ../data/KG_datasets/ml1m/semi/divided/\n",
      "total entities:  5488 5488\n",
      "\t\t len INTER df test:  36369\n",
      "Done!!!\n"
     ]
    }
   ],
   "source": [
    "ml1m_15 = '../data/KG_datasets/ml1m/semi/divided/'\n",
    "split(ml1m_15)"
   ]
  },
  {
   "cell_type": "code",
   "execution_count": 15,
   "metadata": {},
   "outputs": [
    {
     "name": "stdout",
     "output_type": "stream",
     "text": [
      "path to dataset:  ../data/KG_datasets/ml1m/semi_3/divided/\n",
      "total entities:  5561 5561\n",
      "\t\t len INTER df test:  33616\n",
      "Done!!!\n"
     ]
    }
   ],
   "source": [
    "ml1m_3 = '../data/KG_datasets/ml1m/semi_3/divided/'\n",
    "split(ml1m_3)"
   ]
  },
  {
   "cell_type": "code",
   "execution_count": 16,
   "metadata": {},
   "outputs": [
    {
     "name": "stdout",
     "output_type": "stream",
     "text": [
      "path to dataset:  ../data/KG_datasets/ml1m/semi_5/divided/\n",
      "total entities:  5697 5697\n",
      "\t\t len INTER df test:  38727\n",
      "Done!!!\n"
     ]
    }
   ],
   "source": [
    "ml1m_5 = '../data/KG_datasets/ml1m/semi_5/divided/'\n",
    "split(ml1m_5)"
   ]
  },
  {
   "cell_type": "markdown",
   "metadata": {},
   "source": [
    "# Splitting for unoverlapped data"
   ]
  },
  {
   "cell_type": "code",
   "execution_count": 48,
   "metadata": {},
   "outputs": [],
   "source": [
    "def unoverlapped_split(path):\n",
    "    print('path to dataset: ', path)\n",
    "    \n",
    "    intra_df1 = pd.read_csv(path + 'train1.csv', delimiter='\\t').rename(columns={'head':'from', 'rel':'rel', 'tail':'to'})\n",
    "    intra_df2 = pd.read_csv(path + 'train2.csv', delimiter='\\t').rename(columns={'head':'from', 'rel':'rel', 'tail':'to'})\n",
    "        \n",
    "    \n",
    "    intra_df1_train, intra_df1_test = split_df(intra_df1)\n",
    "    intra_df2_train, intra_df2_test = split_df(intra_df2)\n",
    "        \n",
    "    \n",
    "    # merge intra_test\n",
    "    intra_df_test = pd.concat([intra_df1_test, intra_df2_test], axis=0)\n",
    "    \n",
    "    # saving\n",
    "    save_path = path + 'fix_intra-test/'\n",
    "    if os.path.exists(save_path) and os.path.exists(save_path):\n",
    "        shutil.rmtree(save_path)\n",
    "    if not os.path.exists(save_path):\n",
    "        os.makedirs(save_path)\n",
    "        \n",
    "    \n",
    "    # save intra_test\n",
    "    intra_df_test.to_csv(save_path + 'intra_test.csv', index=False)\n",
    "    \n",
    "    # save intra train\n",
    "    intra_df1_train.to_csv(save_path + 'intra_train1.csv', index=False)\n",
    "    intra_df2_train.to_csv(save_path + 'intra_train2.csv', index=False)        \n",
    "    \n",
    "    # inter-domain\n",
    "    inter_df12 = pd.read_csv(path + 'cross_h1t2.csv', delimiter='\\t').rename(columns={'head':'from', 'rel':'rel', 'tail':'to'})\n",
    "    inter_df21 = pd.read_csv(path + 'cross_h2t1.csv', delimiter='\\t').rename(columns={'head':'from', 'rel':'rel', 'tail':'to'})\n",
    "    inter_df = pd.concat([inter_df12, inter_df21], axis=0)\n",
    "    \n",
    "    print('\\t\\t len INTER df test: ', len(inter_df))\n",
    "    \n",
    "    # save\n",
    "    inter_df.to_csv(save_path + 'inter_test.csv', index=False)\n",
    "    \n",
    "    print('Done!!!')"
   ]
  },
  {
   "cell_type": "code",
   "execution_count": null,
   "metadata": {},
   "outputs": [],
   "source": [
    "def unoverlapped_split(path):\n",
    "    print('path to dataset: ', path)\n",
    "    \n",
    "    intra_df1 = pd.read_csv(path + 'train1.csv', delimiter='\\t').rename(columns={'head':'from', 'rel':'rel', 'tail':'to'})\n",
    "    ent2ix_1 = get_dictionaries(intra_df1, ent=True)\n",
    "    rel2ix_1 = get_dictionaries(intra_df1, ent=False)\n",
    "    n1 = len(ent2ix_1)\n",
    "    ent_set_1 = set(ent2ix_1.keys())\n",
    "     \n",
    "    intra_df2 = pd.read_csv(path + 'train2.csv', delimiter='\\t').rename(columns={'head':'from', 'rel':'rel', 'tail':'to'})\n",
    "    ent2ix_2 = get_dictionaries(intra_df2, ent=True)\n",
    "    rel2ix_2 = get_dictionaries(intra_df2, ent=False)\n",
    "    n2 = len(ent2ix_2)\n",
    "    ent_set_2 = set(ent2ix_2.keys())\n",
    "    \n",
    "    #common_df = pd.read_csv(path + 'train_common.csv', delimiter='\\t').rename(columns={'head':'from', 'rel':'rel', 'tail':'to'})\n",
    "    ent2ix_common = {}\n",
    "    rel2ix_common = {}\n",
    "    n_common = len(ent2ix_common)\n",
    "    ent_set_common = set(ent2ix_common.keys())\n",
    "    \n",
    "    #cross_1_common = pd.read_csv(path + 'cross_1_common.csv', delimiter='\\t').rename(columns={'head':'from', 'rel':'rel', 'tail':'to'})\n",
    "    #cross_2_common = pd.read_csv(path + 'cross_2_common.csv', delimiter='\\t').rename(columns={'head':'from', 'rel':'rel', 'tail':'to'})\n",
    "    \n",
    "    # merge ent2ix from all df\n",
    "    ent2ix_1_common = {k: v + n1 for k, v in ent2ix_common.items()}\n",
    "    ent2ix_1.update(ent2ix_1_common)\n",
    "    ent2ix_2 = {k: v + n1 + n_common for k, v in ent2ix_2.items()}\n",
    "    ent2ix_1.update(ent2ix_2)\n",
    "    ent2ix = ent2ix_1\n",
    "\n",
    "    print('total entities: ', n1 + n_common + n2, len(ent2ix))\n",
    "\n",
    "    # merge rel2ix from all df\n",
    "    dif_rel = set(rel2ix_common.keys()).difference(set(rel2ix_1.keys()))\n",
    "    for rel in dif_rel:\n",
    "        rel_id = len(rel2ix_1)\n",
    "        rel2ix_1[rel] = rel_id\n",
    "    dif_rel = set(rel2ix_2.keys()).difference(set(rel2ix_1.keys()))\n",
    "    for rel in dif_rel:\n",
    "        rel_id = len(rel2ix_1)\n",
    "        rel2ix_1[rel] = rel_id\n",
    "\n",
    "    rel2ix = rel2ix_1\n",
    "    \n",
    "    intra_df = pd.concat([intra_df1, intra_df2], axis=0)\n",
    "    \n",
    "    kg = utils.Extended_KnowledgeGraph(df=intra_df, ent2ix=ent2ix, rel2ix=rel2ix)\n",
    "    \n",
    "    kg, intra_kg_test = kg.split_kg(share=0.95)    \n",
    "    \n",
    "    # inter-domain\n",
    "    inter_df_12 = pd.read_csv(path + 'cross_h1t2.csv', delimiter='\\t').rename(columns={'head':'from', 'rel':'rel', 'tail':'to'})\n",
    "    inter_df_21 = pd.read_csv(path + 'cross_h2t1.csv', delimiter='\\t').rename(columns={'head':'from', 'rel':'rel', 'tail':'to'})\n",
    "    inter_df = pd.concat([inter_df_12, inter_df_21], axis=0)\n",
    "    \n",
    "    inter_kg = utils.Extended_KnowledgeGraph(df=inter_df, ent2ix=kg.ent2ix, rel2ix=kg.rel2ix)\n",
    "    \n",
    "    print('\\t\\t len INTER df test: ', len(inter_df))\n",
    "    \n",
    "    kg_dict = {'intra_train': kg,\n",
    "               'intra_test': intra_kg_test,\n",
    "               'inter_test': inter_kg,\n",
    "               'n1': n1,\n",
    "               'n2': n2,\n",
    "               'n_common': n_common,\n",
    "              }\n",
    "    \n",
    "    # saving\n",
    "    save_path = path + 'fix_intra-test/'\n",
    "    if os.path.exists(save_path) and os.path.exists(save_path):\n",
    "        shutil.rmtree(save_path)\n",
    "    if not os.path.exists(save_path):\n",
    "        os.makedirs(save_path)    \n",
    "        \n",
    "    pickle.dump(kg_dict, open(save_path + 'kg_dict.pkl', 'bw'))\n",
    "    \n",
    "    print('Done!!!')"
   ]
  },
  {
   "cell_type": "markdown",
   "metadata": {},
   "source": [
    "### split FB15k-237"
   ]
  },
  {
   "cell_type": "code",
   "execution_count": 8,
   "metadata": {},
   "outputs": [
    {
     "name": "stdout",
     "output_type": "stream",
     "text": [
      "path to dataset:  ../data/FB15k-237/divided/\n"
     ]
    },
    {
     "ename": "FileNotFoundError",
     "evalue": "[Errno 2] No such file or directory: '../data/FB15k-237/divided/train_common.csv'",
     "output_type": "error",
     "traceback": [
      "\u001b[0;31m---------------------------------------------------------------------------\u001b[0m",
      "\u001b[0;31mFileNotFoundError\u001b[0m                         Traceback (most recent call last)",
      "\u001b[0;32m<ipython-input-8-6e5cf1c30c5b>\u001b[0m in \u001b[0;36m<module>\u001b[0;34m\u001b[0m\n\u001b[1;32m      1\u001b[0m \u001b[0mFB15k_path\u001b[0m \u001b[0;34m=\u001b[0m \u001b[0;34m'../data/FB15k-237/divided/'\u001b[0m\u001b[0;34m\u001b[0m\u001b[0;34m\u001b[0m\u001b[0m\n\u001b[0;32m----> 2\u001b[0;31m \u001b[0msplit\u001b[0m\u001b[0;34m(\u001b[0m\u001b[0mFB15k_path\u001b[0m\u001b[0;34m)\u001b[0m\u001b[0;34m\u001b[0m\u001b[0;34m\u001b[0m\u001b[0m\n\u001b[0m",
      "\u001b[0;32m<ipython-input-3-9cb24157848a>\u001b[0m in \u001b[0;36msplit\u001b[0;34m(path)\u001b[0m\n\u001b[1;32m     16\u001b[0m     \u001b[0ment_set_2\u001b[0m \u001b[0;34m=\u001b[0m \u001b[0mset\u001b[0m\u001b[0;34m(\u001b[0m\u001b[0ment2ix_2\u001b[0m\u001b[0;34m.\u001b[0m\u001b[0mkeys\u001b[0m\u001b[0;34m(\u001b[0m\u001b[0;34m)\u001b[0m\u001b[0;34m)\u001b[0m\u001b[0;34m\u001b[0m\u001b[0;34m\u001b[0m\u001b[0m\n\u001b[1;32m     17\u001b[0m \u001b[0;34m\u001b[0m\u001b[0m\n\u001b[0;32m---> 18\u001b[0;31m     \u001b[0mcommon_df\u001b[0m \u001b[0;34m=\u001b[0m \u001b[0mpd\u001b[0m\u001b[0;34m.\u001b[0m\u001b[0mread_csv\u001b[0m\u001b[0;34m(\u001b[0m\u001b[0mpath\u001b[0m \u001b[0;34m+\u001b[0m \u001b[0;34m'train_common.csv'\u001b[0m\u001b[0;34m,\u001b[0m \u001b[0mdelimiter\u001b[0m\u001b[0;34m=\u001b[0m\u001b[0;34m'\\t'\u001b[0m\u001b[0;34m)\u001b[0m\u001b[0;34m.\u001b[0m\u001b[0mrename\u001b[0m\u001b[0;34m(\u001b[0m\u001b[0mcolumns\u001b[0m\u001b[0;34m=\u001b[0m\u001b[0;34m{\u001b[0m\u001b[0;34m'head'\u001b[0m\u001b[0;34m:\u001b[0m\u001b[0;34m'from'\u001b[0m\u001b[0;34m,\u001b[0m \u001b[0;34m'rel'\u001b[0m\u001b[0;34m:\u001b[0m\u001b[0;34m'rel'\u001b[0m\u001b[0;34m,\u001b[0m \u001b[0;34m'tail'\u001b[0m\u001b[0;34m:\u001b[0m\u001b[0;34m'to'\u001b[0m\u001b[0;34m}\u001b[0m\u001b[0;34m)\u001b[0m\u001b[0;34m\u001b[0m\u001b[0;34m\u001b[0m\u001b[0m\n\u001b[0m\u001b[1;32m     19\u001b[0m     \u001b[0ment2ix_common\u001b[0m \u001b[0;34m=\u001b[0m \u001b[0mget_dictionaries\u001b[0m\u001b[0;34m(\u001b[0m\u001b[0mcommon_df\u001b[0m\u001b[0;34m,\u001b[0m \u001b[0ment\u001b[0m\u001b[0;34m=\u001b[0m\u001b[0;32mTrue\u001b[0m\u001b[0;34m)\u001b[0m\u001b[0;34m\u001b[0m\u001b[0;34m\u001b[0m\u001b[0m\n\u001b[1;32m     20\u001b[0m     \u001b[0mrel2ix_common\u001b[0m \u001b[0;34m=\u001b[0m \u001b[0mget_dictionaries\u001b[0m\u001b[0;34m(\u001b[0m\u001b[0mcommon_df\u001b[0m\u001b[0;34m,\u001b[0m \u001b[0ment\u001b[0m\u001b[0;34m=\u001b[0m\u001b[0;32mFalse\u001b[0m\u001b[0;34m)\u001b[0m\u001b[0;34m\u001b[0m\u001b[0;34m\u001b[0m\u001b[0m\n",
      "\u001b[0;32m~/anaconda3/envs/fuku/lib/python3.8/site-packages/pandas/io/parsers.py\u001b[0m in \u001b[0;36mread_csv\u001b[0;34m(filepath_or_buffer, sep, delimiter, header, names, index_col, usecols, squeeze, prefix, mangle_dupe_cols, dtype, engine, converters, true_values, false_values, skipinitialspace, skiprows, skipfooter, nrows, na_values, keep_default_na, na_filter, verbose, skip_blank_lines, parse_dates, infer_datetime_format, keep_date_col, date_parser, dayfirst, cache_dates, iterator, chunksize, compression, thousands, decimal, lineterminator, quotechar, quoting, doublequote, escapechar, comment, encoding, dialect, error_bad_lines, warn_bad_lines, delim_whitespace, low_memory, memory_map, float_precision)\u001b[0m\n\u001b[1;32m    686\u001b[0m     )\n\u001b[1;32m    687\u001b[0m \u001b[0;34m\u001b[0m\u001b[0m\n\u001b[0;32m--> 688\u001b[0;31m     \u001b[0;32mreturn\u001b[0m \u001b[0m_read\u001b[0m\u001b[0;34m(\u001b[0m\u001b[0mfilepath_or_buffer\u001b[0m\u001b[0;34m,\u001b[0m \u001b[0mkwds\u001b[0m\u001b[0;34m)\u001b[0m\u001b[0;34m\u001b[0m\u001b[0;34m\u001b[0m\u001b[0m\n\u001b[0m\u001b[1;32m    689\u001b[0m \u001b[0;34m\u001b[0m\u001b[0m\n\u001b[1;32m    690\u001b[0m \u001b[0;34m\u001b[0m\u001b[0m\n",
      "\u001b[0;32m~/anaconda3/envs/fuku/lib/python3.8/site-packages/pandas/io/parsers.py\u001b[0m in \u001b[0;36m_read\u001b[0;34m(filepath_or_buffer, kwds)\u001b[0m\n\u001b[1;32m    452\u001b[0m \u001b[0;34m\u001b[0m\u001b[0m\n\u001b[1;32m    453\u001b[0m     \u001b[0;31m# Create the parser.\u001b[0m\u001b[0;34m\u001b[0m\u001b[0;34m\u001b[0m\u001b[0;34m\u001b[0m\u001b[0m\n\u001b[0;32m--> 454\u001b[0;31m     \u001b[0mparser\u001b[0m \u001b[0;34m=\u001b[0m \u001b[0mTextFileReader\u001b[0m\u001b[0;34m(\u001b[0m\u001b[0mfp_or_buf\u001b[0m\u001b[0;34m,\u001b[0m \u001b[0;34m**\u001b[0m\u001b[0mkwds\u001b[0m\u001b[0;34m)\u001b[0m\u001b[0;34m\u001b[0m\u001b[0;34m\u001b[0m\u001b[0m\n\u001b[0m\u001b[1;32m    455\u001b[0m \u001b[0;34m\u001b[0m\u001b[0m\n\u001b[1;32m    456\u001b[0m     \u001b[0;32mif\u001b[0m \u001b[0mchunksize\u001b[0m \u001b[0;32mor\u001b[0m \u001b[0miterator\u001b[0m\u001b[0;34m:\u001b[0m\u001b[0;34m\u001b[0m\u001b[0;34m\u001b[0m\u001b[0m\n",
      "\u001b[0;32m~/anaconda3/envs/fuku/lib/python3.8/site-packages/pandas/io/parsers.py\u001b[0m in \u001b[0;36m__init__\u001b[0;34m(self, f, engine, **kwds)\u001b[0m\n\u001b[1;32m    946\u001b[0m             \u001b[0mself\u001b[0m\u001b[0;34m.\u001b[0m\u001b[0moptions\u001b[0m\u001b[0;34m[\u001b[0m\u001b[0;34m\"has_index_names\"\u001b[0m\u001b[0;34m]\u001b[0m \u001b[0;34m=\u001b[0m \u001b[0mkwds\u001b[0m\u001b[0;34m[\u001b[0m\u001b[0;34m\"has_index_names\"\u001b[0m\u001b[0;34m]\u001b[0m\u001b[0;34m\u001b[0m\u001b[0;34m\u001b[0m\u001b[0m\n\u001b[1;32m    947\u001b[0m \u001b[0;34m\u001b[0m\u001b[0m\n\u001b[0;32m--> 948\u001b[0;31m         \u001b[0mself\u001b[0m\u001b[0;34m.\u001b[0m\u001b[0m_make_engine\u001b[0m\u001b[0;34m(\u001b[0m\u001b[0mself\u001b[0m\u001b[0;34m.\u001b[0m\u001b[0mengine\u001b[0m\u001b[0;34m)\u001b[0m\u001b[0;34m\u001b[0m\u001b[0;34m\u001b[0m\u001b[0m\n\u001b[0m\u001b[1;32m    949\u001b[0m \u001b[0;34m\u001b[0m\u001b[0m\n\u001b[1;32m    950\u001b[0m     \u001b[0;32mdef\u001b[0m \u001b[0mclose\u001b[0m\u001b[0;34m(\u001b[0m\u001b[0mself\u001b[0m\u001b[0;34m)\u001b[0m\u001b[0;34m:\u001b[0m\u001b[0;34m\u001b[0m\u001b[0;34m\u001b[0m\u001b[0m\n",
      "\u001b[0;32m~/anaconda3/envs/fuku/lib/python3.8/site-packages/pandas/io/parsers.py\u001b[0m in \u001b[0;36m_make_engine\u001b[0;34m(self, engine)\u001b[0m\n\u001b[1;32m   1178\u001b[0m     \u001b[0;32mdef\u001b[0m \u001b[0m_make_engine\u001b[0m\u001b[0;34m(\u001b[0m\u001b[0mself\u001b[0m\u001b[0;34m,\u001b[0m \u001b[0mengine\u001b[0m\u001b[0;34m=\u001b[0m\u001b[0;34m\"c\"\u001b[0m\u001b[0;34m)\u001b[0m\u001b[0;34m:\u001b[0m\u001b[0;34m\u001b[0m\u001b[0;34m\u001b[0m\u001b[0m\n\u001b[1;32m   1179\u001b[0m         \u001b[0;32mif\u001b[0m \u001b[0mengine\u001b[0m \u001b[0;34m==\u001b[0m \u001b[0;34m\"c\"\u001b[0m\u001b[0;34m:\u001b[0m\u001b[0;34m\u001b[0m\u001b[0;34m\u001b[0m\u001b[0m\n\u001b[0;32m-> 1180\u001b[0;31m             \u001b[0mself\u001b[0m\u001b[0;34m.\u001b[0m\u001b[0m_engine\u001b[0m \u001b[0;34m=\u001b[0m \u001b[0mCParserWrapper\u001b[0m\u001b[0;34m(\u001b[0m\u001b[0mself\u001b[0m\u001b[0;34m.\u001b[0m\u001b[0mf\u001b[0m\u001b[0;34m,\u001b[0m \u001b[0;34m**\u001b[0m\u001b[0mself\u001b[0m\u001b[0;34m.\u001b[0m\u001b[0moptions\u001b[0m\u001b[0;34m)\u001b[0m\u001b[0;34m\u001b[0m\u001b[0;34m\u001b[0m\u001b[0m\n\u001b[0m\u001b[1;32m   1181\u001b[0m         \u001b[0;32melse\u001b[0m\u001b[0;34m:\u001b[0m\u001b[0;34m\u001b[0m\u001b[0;34m\u001b[0m\u001b[0m\n\u001b[1;32m   1182\u001b[0m             \u001b[0;32mif\u001b[0m \u001b[0mengine\u001b[0m \u001b[0;34m==\u001b[0m \u001b[0;34m\"python\"\u001b[0m\u001b[0;34m:\u001b[0m\u001b[0;34m\u001b[0m\u001b[0;34m\u001b[0m\u001b[0m\n",
      "\u001b[0;32m~/anaconda3/envs/fuku/lib/python3.8/site-packages/pandas/io/parsers.py\u001b[0m in \u001b[0;36m__init__\u001b[0;34m(self, src, **kwds)\u001b[0m\n\u001b[1;32m   2008\u001b[0m         \u001b[0mkwds\u001b[0m\u001b[0;34m[\u001b[0m\u001b[0;34m\"usecols\"\u001b[0m\u001b[0;34m]\u001b[0m \u001b[0;34m=\u001b[0m \u001b[0mself\u001b[0m\u001b[0;34m.\u001b[0m\u001b[0musecols\u001b[0m\u001b[0;34m\u001b[0m\u001b[0;34m\u001b[0m\u001b[0m\n\u001b[1;32m   2009\u001b[0m \u001b[0;34m\u001b[0m\u001b[0m\n\u001b[0;32m-> 2010\u001b[0;31m         \u001b[0mself\u001b[0m\u001b[0;34m.\u001b[0m\u001b[0m_reader\u001b[0m \u001b[0;34m=\u001b[0m \u001b[0mparsers\u001b[0m\u001b[0;34m.\u001b[0m\u001b[0mTextReader\u001b[0m\u001b[0;34m(\u001b[0m\u001b[0msrc\u001b[0m\u001b[0;34m,\u001b[0m \u001b[0;34m**\u001b[0m\u001b[0mkwds\u001b[0m\u001b[0;34m)\u001b[0m\u001b[0;34m\u001b[0m\u001b[0;34m\u001b[0m\u001b[0m\n\u001b[0m\u001b[1;32m   2011\u001b[0m         \u001b[0mself\u001b[0m\u001b[0;34m.\u001b[0m\u001b[0munnamed_cols\u001b[0m \u001b[0;34m=\u001b[0m \u001b[0mself\u001b[0m\u001b[0;34m.\u001b[0m\u001b[0m_reader\u001b[0m\u001b[0;34m.\u001b[0m\u001b[0munnamed_cols\u001b[0m\u001b[0;34m\u001b[0m\u001b[0;34m\u001b[0m\u001b[0m\n\u001b[1;32m   2012\u001b[0m \u001b[0;34m\u001b[0m\u001b[0m\n",
      "\u001b[0;32mpandas/_libs/parsers.pyx\u001b[0m in \u001b[0;36mpandas._libs.parsers.TextReader.__cinit__\u001b[0;34m()\u001b[0m\n",
      "\u001b[0;32mpandas/_libs/parsers.pyx\u001b[0m in \u001b[0;36mpandas._libs.parsers.TextReader._setup_parser_source\u001b[0;34m()\u001b[0m\n",
      "\u001b[0;31mFileNotFoundError\u001b[0m: [Errno 2] No such file or directory: '../data/FB15k-237/divided/train_common.csv'"
     ]
    }
   ],
   "source": [
    "FB15k_path = '../data/FB15k-237/divided/'\n",
    "split(FB15k_path)"
   ]
  },
  {
   "cell_type": "code",
   "execution_count": 7,
   "metadata": {},
   "outputs": [
    {
     "name": "stdout",
     "output_type": "stream",
     "text": [
      "Done_Nickel_ICML2011-A Three-Way Model for Collective Learning on Multi-Relational Data_done.pdf\r\n",
      "ICDM07-ASALSAN.pdf\r\n",
      "Kemp-etal-AAAI06.pdf\r\n",
      "README.md\r\n",
      "\u001b[0m\u001b[01;35mRescal.jpg\u001b[0m\r\n",
      "__init__.py\r\n",
      "\u001b[01;34m__pycache__\u001b[0m/\r\n",
      "\u001b[01;34mdata\u001b[0m/\r\n",
      "\u001b[01;34mrescal_als\u001b[0m/\r\n",
      "\u001b[01;34mrescal_torch\u001b[0m/\r\n",
      "\u001b[01;34mresults\u001b[0m/\r\n",
      "\u001b[01;34mwasserstein_ot\u001b[0m/\r\n"
     ]
    }
   ],
   "source": [
    "ls ../"
   ]
  },
  {
   "cell_type": "code",
   "execution_count": null,
   "metadata": {},
   "outputs": [],
   "source": []
  },
  {
   "cell_type": "code",
   "execution_count": null,
   "metadata": {},
   "outputs": [],
   "source": []
  },
  {
   "cell_type": "code",
   "execution_count": 51,
   "metadata": {},
   "outputs": [
    {
     "name": "stdout",
     "output_type": "stream",
     "text": [
      "path to dataset:  data/WN18RR/divided/\n",
      "\t\t len INTER df test:  3889\n",
      "Done!!!\n"
     ]
    }
   ],
   "source": [
    "WN18RR_path = 'data/WN18RR/divided/'\n",
    "unoverlapped_split(WN18RR_path)"
   ]
  },
  {
   "cell_type": "code",
   "execution_count": 52,
   "metadata": {},
   "outputs": [
    {
     "name": "stdout",
     "output_type": "stream",
     "text": [
      "path to dataset:  data/KG_datasets/dbbook2014/kg/divided/\n",
      "\t\t len INTER df test:  32141\n",
      "Done!!!\n"
     ]
    }
   ],
   "source": [
    "DBbook_path = 'data/KG_datasets/dbbook2014/kg/divided/'\n",
    "unoverlapped_split(DBbook_path)"
   ]
  },
  {
   "cell_type": "code",
   "execution_count": 53,
   "metadata": {},
   "outputs": [
    {
     "name": "stdout",
     "output_type": "stream",
     "text": [
      "path to dataset:  data/KG_datasets/ml1m/kg/divided/\n",
      "\t\t len INTER df test:  23745\n",
      "Done!!!\n"
     ]
    }
   ],
   "source": [
    "ML1M_path = 'data/KG_datasets/ml1m/kg/divided/'\n",
    "unoverlapped_split(ML1M_path)"
   ]
  },
  {
   "cell_type": "code",
   "execution_count": null,
   "metadata": {},
   "outputs": [],
   "source": []
  },
  {
   "cell_type": "code",
   "execution_count": null,
   "metadata": {},
   "outputs": [],
   "source": []
  },
  {
   "cell_type": "code",
   "execution_count": null,
   "metadata": {},
   "outputs": [],
   "source": []
  },
  {
   "cell_type": "code",
   "execution_count": null,
   "metadata": {},
   "outputs": [],
   "source": []
  }
 ],
 "metadata": {
  "kernelspec": {
   "display_name": "Python 3",
   "language": "python",
   "name": "python3"
  },
  "language_info": {
   "codemirror_mode": {
    "name": "ipython",
    "version": 3
   },
   "file_extension": ".py",
   "mimetype": "text/x-python",
   "name": "python",
   "nbconvert_exporter": "python",
   "pygments_lexer": "ipython3",
   "version": "3.8.5"
  }
 },
 "nbformat": 4,
 "nbformat_minor": 4
}
