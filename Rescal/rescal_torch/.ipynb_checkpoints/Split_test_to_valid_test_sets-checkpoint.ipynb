{
 "cells": [
  {
   "cell_type": "code",
   "execution_count": 3,
   "metadata": {},
   "outputs": [],
   "source": [
    "import pickle\n",
    "import torch\n",
    "import numpy as np"
   ]
  },
  {
   "cell_type": "code",
   "execution_count": 32,
   "metadata": {},
   "outputs": [],
   "source": [
    "def split_valid_test(path, source_file='kg_dict.pkl', target_file='kg_valid_dict.pkl'):\n",
    "    print('path: ', path)\n",
    "    with open(path + source_file, 'rb') as file:\n",
    "        kg_dict = pickle.load(file)\n",
    "\n",
    "    kg_dict.keys()\n",
    "\n",
    "    inter_test_kg = kg_dict['inter_test']\n",
    "    \n",
    "    print('inter_test_whole n_facts: ', inter_test_kg.n_facts)\n",
    "\n",
    "    inter_test, inter_valid = inter_test_kg.split_kg(share=0.8)\n",
    "\n",
    "    print('inter test: %s facts, inter valid: %s facts ' %(inter_test.n_facts, inter_valid.n_facts))\n",
    "\n",
    "    # includes the inter-valid, inter_test splist\n",
    "\n",
    "    kg_valid_dict = {\n",
    "        'intra_train': kg_dict['intra_train'],\n",
    "        'intra_test': kg_dict['intra_test'],\n",
    "        'inter_test_whole': kg_dict['inter_test'],\n",
    "        'inter_valid': inter_valid,\n",
    "        'inter_test': inter_test,\n",
    "        'n1': kg_dict['n1'],\n",
    "        'n2': kg_dict['n2'],\n",
    "        'n_common': kg_dict['n_common'],\n",
    "    }\n",
    "\n",
    "    print('n1: %s - n_common: %s - n2: %s' %(kg_dict['n1'], kg_dict['n_common'], kg_dict['n2']))\n",
    "\n",
    "    with open(path + target_file, 'wb') as file:\n",
    "        pickle.dump(kg_valid_dict, file)"
   ]
  },
  {
   "cell_type": "markdown",
   "metadata": {},
   "source": [
    "### Split FB15k-237"
   ]
  },
  {
   "cell_type": "code",
   "execution_count": 31,
   "metadata": {},
   "outputs": [
    {
     "name": "stdout",
     "output_type": "stream",
     "text": [
      "inter_test_whole n_facts:  22857\n",
      "inter test: 18356 facts, inter valid: 4501 facts \n",
      "n1: 2721 - n_common: 0 - n2: 2683\n",
      "inter_test_whole n_facts:  22879\n",
      "inter test: 18391 facts, inter valid: 4488 facts \n",
      "n1: 2628 - n_common: 46 - n2: 2619\n",
      "inter_test_whole n_facts:  22006\n",
      "inter test: 17702 facts, inter valid: 4304 facts \n",
      "n1: 2675 - n_common: 83 - n2: 2677\n",
      "inter_test_whole n_facts:  22505\n",
      "inter test: 18101 facts, inter valid: 4404 facts \n",
      "n1: 2589 - n_common: 134 - n2: 2676\n"
     ]
    }
   ],
   "source": [
    "path_FB15k_0 = '../data/FB15k-237/divided/fix_intra-test/'\n",
    "split_valid_test(path_FB15k_0)\n",
    "\n",
    "path_FB15k_15 = '../data/FB15k-237/semi/divided/fix_intra-test/'\n",
    "split_valid_test(path_FB15k_15)\n",
    "\n",
    "path_FB15k_3 = '../data/FB15k-237/semi_3/divided/fix_intra-test/'\n",
    "split_valid_test(path_FB15k_3)\n",
    "\n",
    "path_FB15k_5 = '../data/FB15k-237/semi_5/divided/fix_intra-test/'\n",
    "split_valid_test(path_FB15k_5)"
   ]
  },
  {
   "cell_type": "markdown",
   "metadata": {},
   "source": [
    "### Split WN18RR"
   ]
  },
  {
   "cell_type": "code",
   "execution_count": 33,
   "metadata": {},
   "outputs": [
    {
     "name": "stdout",
     "output_type": "stream",
     "text": [
      "path:  ../data/WN18RR/divided/fix_intra-test/\n",
      "inter_test_whole n_facts:  3889\n",
      "inter test: 3559 facts, inter valid: 330 facts \n",
      "n1: 5584 - n_common: 0 - n2: 5294\n",
      "path:  ../data/WN18RR/semi/divided/fix_intra-test/\n",
      "inter_test_whole n_facts:  3884\n",
      "inter test: 3512 facts, inter valid: 372 facts \n",
      "n1: 5443 - n_common: 290 - n2: 5332\n",
      "path:  ../data/WN18RR/semi_3/divided/fix_intra-test/\n",
      "inter_test_whole n_facts:  1218\n",
      "inter test: 1113 facts, inter valid: 105 facts \n",
      "n1: 2804 - n_common: 84 - n2: 2720\n",
      "path:  ../data/WN18RR/semi_5/divided/fix_intra-test/\n",
      "inter_test_whole n_facts:  1444\n",
      "inter test: 1318 facts, inter valid: 126 facts \n",
      "n1: 2853 - n_common: 137 - n2: 3022\n"
     ]
    }
   ],
   "source": [
    "path = '../data/WN18RR/divided/fix_intra-test/'\n",
    "split_valid_test(path)\n",
    "\n",
    "path = '../data/WN18RR/semi/divided/fix_intra-test/'\n",
    "split_valid_test(path)\n",
    "\n",
    "path = '../data/WN18RR/semi_3/divided/fix_intra-test/'\n",
    "split_valid_test(path)\n",
    "\n",
    "path = '../data/WN18RR/semi_5/divided/fix_intra-test/'\n",
    "split_valid_test(path)\n",
    "\n"
   ]
  },
  {
   "cell_type": "markdown",
   "metadata": {},
   "source": [
    "### Split DBbook2014"
   ]
  },
  {
   "cell_type": "code",
   "execution_count": 35,
   "metadata": {},
   "outputs": [
    {
     "name": "stdout",
     "output_type": "stream",
     "text": [
      "path:  ../data/KG_datasets/dbbook2014/kg/divided/fix_intra-test/\n",
      "inter_test_whole n_facts:  32141\n",
      "inter test: 25824 facts, inter valid: 6317 facts \n",
      "n1: 2884 - n_common: 0 - n2: 2921\n",
      "path:  ../data/KG_datasets/dbbook2014/semi/divided/fix_intra-test/\n",
      "inter_test_whole n_facts:  26881\n",
      "inter test: 21619 facts, inter valid: 5262 facts \n",
      "n1: 2916 - n_common: 27 - n2: 2899\n",
      "path:  ../data/KG_datasets/dbbook2014/semi_3/divided/fix_intra-test/\n",
      "inter_test_whole n_facts:  33410\n",
      "inter test: 26822 facts, inter valid: 6588 facts \n",
      "n1: 2932 - n_common: 89 - n2: 2893\n",
      "path:  ../data/KG_datasets/dbbook2014/semi_5/divided/fix_intra-test/\n",
      "inter_test_whole n_facts:  29201\n",
      "inter test: 23461 facts, inter valid: 5740 facts \n",
      "n1: 2899 - n_common: 152 - n2: 2914\n"
     ]
    }
   ],
   "source": [
    "path = '../data/KG_datasets/dbbook2014/kg/divided/fix_intra-test/'\n",
    "split_valid_test(path)\n",
    "\n",
    "path = '../data/KG_datasets/dbbook2014/semi/divided/fix_intra-test/'\n",
    "split_valid_test(path)\n",
    "\n",
    "path = '../data/KG_datasets/dbbook2014/semi_3/divided/fix_intra-test/'\n",
    "split_valid_test(path)\n",
    "\n",
    "path = '../data/KG_datasets/dbbook2014/semi_5/divided/fix_intra-test/'\n",
    "split_valid_test(path)"
   ]
  },
  {
   "cell_type": "markdown",
   "metadata": {},
   "source": [
    "### Split ML1M"
   ]
  },
  {
   "cell_type": "code",
   "execution_count": 37,
   "metadata": {},
   "outputs": [
    {
     "name": "stdout",
     "output_type": "stream",
     "text": [
      "path:  ../data/KG_datasets/ml1m/kg/divided/fix_intra-test/\n",
      "inter_test_whole n_facts:  23745\n",
      "inter test: 19080 facts, inter valid: 4665 facts \n",
      "n1: 2214 - n_common: 0 - n2: 2215\n",
      "path:  ../data/KG_datasets/ml1m/semi/divided/fix_intra-test/\n",
      "inter_test_whole n_facts:  36369\n",
      "inter test: 29213 facts, inter valid: 7156 facts \n",
      "n1: 2762 - n_common: 41 - n2: 2685\n",
      "path:  ../data/KG_datasets/ml1m/semi_3/divided/fix_intra-test/\n",
      "inter_test_whole n_facts:  33616\n",
      "inter test: 27025 facts, inter valid: 6591 facts \n",
      "n1: 2746 - n_common: 89 - n2: 2726\n",
      "path:  ../data/KG_datasets/ml1m/semi_5/divided/fix_intra-test/\n",
      "inter_test_whole n_facts:  38727\n",
      "inter test: 31110 facts, inter valid: 7617 facts \n",
      "n1: 2794 - n_common: 155 - n2: 2748\n"
     ]
    }
   ],
   "source": [
    "path = '../data/KG_datasets/ml1m/kg/divided/fix_intra-test/'\n",
    "split_valid_test(path)\n",
    "\n",
    "path = '../data/KG_datasets/ml1m/semi/divided/fix_intra-test/'\n",
    "split_valid_test(path)\n",
    "\n",
    "path = '../data/KG_datasets/ml1m/semi_3/divided/fix_intra-test/'\n",
    "split_valid_test(path)\n",
    "\n",
    "path = '../data/KG_datasets/ml1m/semi_5/divided/fix_intra-test/'\n",
    "split_valid_test(path)"
   ]
  },
  {
   "cell_type": "code",
   "execution_count": null,
   "metadata": {},
   "outputs": [],
   "source": []
  },
  {
   "cell_type": "code",
   "execution_count": null,
   "metadata": {},
   "outputs": [],
   "source": []
  },
  {
   "cell_type": "code",
   "execution_count": null,
   "metadata": {},
   "outputs": [],
   "source": []
  },
  {
   "cell_type": "code",
   "execution_count": null,
   "metadata": {},
   "outputs": [],
   "source": []
  },
  {
   "cell_type": "code",
   "execution_count": null,
   "metadata": {},
   "outputs": [],
   "source": []
  },
  {
   "cell_type": "code",
   "execution_count": null,
   "metadata": {},
   "outputs": [],
   "source": []
  },
  {
   "cell_type": "code",
   "execution_count": null,
   "metadata": {},
   "outputs": [],
   "source": []
  },
  {
   "cell_type": "code",
   "execution_count": null,
   "metadata": {},
   "outputs": [],
   "source": []
  },
  {
   "cell_type": "code",
   "execution_count": null,
   "metadata": {},
   "outputs": [],
   "source": []
  },
  {
   "cell_type": "code",
   "execution_count": null,
   "metadata": {},
   "outputs": [],
   "source": []
  },
  {
   "cell_type": "code",
   "execution_count": null,
   "metadata": {},
   "outputs": [],
   "source": []
  },
  {
   "cell_type": "code",
   "execution_count": null,
   "metadata": {},
   "outputs": [],
   "source": []
  },
  {
   "cell_type": "code",
   "execution_count": null,
   "metadata": {},
   "outputs": [],
   "source": []
  }
 ],
 "metadata": {
  "kernelspec": {
   "display_name": "Python 3",
   "language": "python",
   "name": "python3"
  },
  "language_info": {
   "codemirror_mode": {
    "name": "ipython",
    "version": 3
   },
   "file_extension": ".py",
   "mimetype": "text/x-python",
   "name": "python",
   "nbconvert_exporter": "python",
   "pygments_lexer": "ipython3",
   "version": "3.8.5"
  }
 },
 "nbformat": 4,
 "nbformat_minor": 4
}
